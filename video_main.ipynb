{
 "cells": [
  {
   "cell_type": "code",
   "execution_count": 2,
   "metadata": {},
   "outputs": [],
   "source": [
    "import os\n",
    "from PIL import Image\n",
    "import numpy as np"
   ]
  },
  {
   "cell_type": "code",
   "execution_count": 3,
   "metadata": {},
   "outputs": [],
   "source": [
    "import torch\n",
    "import torch.nn as nn\n",
    "import torchvision\n",
    "from torchvision import transforms"
   ]
  },
  {
   "cell_type": "code",
   "execution_count": 4,
   "metadata": {},
   "outputs": [],
   "source": [
    "images = os.listdir(\"./images\")"
   ]
  },
  {
   "cell_type": "code",
   "execution_count": 5,
   "metadata": {},
   "outputs": [],
   "source": [
    "#os.environ[\"TORCH_HOME\"] = \"E:\\model_weights_edir\"\n",
    "model = torchvision.models.resnet18(weights = \"DEFAULT\")"
   ]
  },
  {
   "cell_type": "code",
   "execution_count": 6,
   "metadata": {},
   "outputs": [],
   "source": [
    "all_names = []\n",
    "all_vecs = None\n",
    "model.eval()\n",
    "root = \"./images/\""
   ]
  },
  {
   "cell_type": "code",
   "execution_count": 7,
   "metadata": {},
   "outputs": [],
   "source": [
    "transform = transforms.Compose([\n",
    "    transforms.Resize((256 , 256)) ,\n",
    "    transforms.ToTensor() ,\n",
    "    transforms.Normalize(mean = [0.485 , 0.456 , 0.406] , std = [0.229 , 0.224 , 0.225])\n",
    "])"
   ]
  },
  {
   "cell_type": "code",
   "execution_count": 8,
   "metadata": {},
   "outputs": [
    {
     "data": {
      "text/plain": [
       "<torch.utils.hooks.RemovableHandle at 0x1733e432c90>"
      ]
     },
     "execution_count": 8,
     "metadata": {},
     "output_type": "execute_result"
    }
   ],
   "source": [
    "activation = {}\n",
    "def get_activation(name):\n",
    "    def hook(model , input , output):\n",
    "        activation[name] = output.detach()\n",
    "    return hook"
   ]
  },
  {
   "cell_type": "code",
   "execution_count": null,
   "metadata": {},
   "outputs": [],
   "source": [
    "model.avgpool.register_forward_hook(get_activation(\"avgpool\"))"
   ]
  },
  {
   "cell_type": "code",
   "execution_count": 9,
   "metadata": {},
   "outputs": [
    {
     "name": "stdout",
     "output_type": "stream",
     "text": [
      "100 done\n",
      "200 done\n",
      "300 done\n",
      "400 done\n",
      "500 done\n",
      "600 done\n",
      "700 done\n",
      "800 done\n",
      "900 done\n",
      "1000 done\n",
      "1100 done\n",
      "1200 done\n",
      "1300 done\n",
      "1400 done\n",
      "1500 done\n",
      "1600 done\n",
      "1700 done\n",
      "1800 done\n",
      "1900 done\n",
      "2000 done\n",
      "2100 done\n",
      "2200 done\n",
      "2300 done\n",
      "2400 done\n"
     ]
    }
   ],
   "source": [
    "with torch.no_grad():\n",
    "    for i , file in enumerate(images):\n",
    "            try:\n",
    "                img = Image.open(root + file)\n",
    "                img = transform(img)\n",
    "                out = model(img[None , ...])\n",
    "                vec = activation[\"avgpool\"].numpy().squeeze()[None , ...]\n",
    "                if all_vecs is None:\n",
    "                    all_vecs = vec\n",
    "                else:\n",
    "                    all_vecs = np.vstack([all_vecs , vec])\n",
    "                all_names.append(file)\n",
    "            except:\n",
    "                continue\n",
    "            if i % 100 == 0 and i != 0:\n",
    "                print(i , \"done\")"
   ]
  },
  {
   "cell_type": "code",
   "execution_count": 10,
   "metadata": {},
   "outputs": [],
   "source": [
    "np.save(\"all_vecs.npy\" , all_vecs)"
   ]
  },
  {
   "cell_type": "code",
   "execution_count": 11,
   "metadata": {},
   "outputs": [],
   "source": [
    "\n",
    "np.save(\"all_names.npy\" , all_names)"
   ]
  }
 ],
 "metadata": {
  "kernelspec": {
   "display_name": "Python 3",
   "language": "python",
   "name": "python3"
  },
  "language_info": {
   "codemirror_mode": {
    "name": "ipython",
    "version": 3
   },
   "file_extension": ".py",
   "mimetype": "text/x-python",
   "name": "python",
   "nbconvert_exporter": "python",
   "pygments_lexer": "ipython3",
   "version": "3.11.2"
  },
  "orig_nbformat": 4
 },
 "nbformat": 4,
 "nbformat_minor": 2
}
